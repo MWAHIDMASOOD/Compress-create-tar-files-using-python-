{
 "cells": [
  {
   "cell_type": "code",
   "execution_count": 1,
   "id": "743d8ea7",
   "metadata": {},
   "outputs": [],
   "source": [
    "import os\n",
    "import tarfile"
   ]
  },
  {
   "cell_type": "code",
   "execution_count": 8,
   "id": "969cb13a",
   "metadata": {},
   "outputs": [],
   "source": [
    "def tardir(path, tar_name):\n",
    "    with tarfile.open(tar_name, \"w:gz\") as tar_handle:\n",
    "        for root, dirs, files in os.walk(path):\n",
    "            for file in files:\n",
    "                tar_handle.add(os.path.join(root, file))\n",
    "tardir(r\"C:\\Users\\mwmpr\\Desktop\\Python projects\",\"Python_projects.tar.gz\")\n"
   ]
  },
  {
   "cell_type": "code",
   "execution_count": null,
   "id": "c3bff15e",
   "metadata": {},
   "outputs": [],
   "source": []
  }
 ],
 "metadata": {
  "kernelspec": {
   "display_name": "Python 3 (ipykernel)",
   "language": "python",
   "name": "python3"
  },
  "language_info": {
   "codemirror_mode": {
    "name": "ipython",
    "version": 3
   },
   "file_extension": ".py",
   "mimetype": "text/x-python",
   "name": "python",
   "nbconvert_exporter": "python",
   "pygments_lexer": "ipython3",
   "version": "3.9.12"
  }
 },
 "nbformat": 4,
 "nbformat_minor": 5
}
